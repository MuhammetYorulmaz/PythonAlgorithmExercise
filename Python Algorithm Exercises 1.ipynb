{
 "cells": [
  {
   "cell_type": "markdown",
   "id": "d201675c",
   "metadata": {},
   "source": [
    "# Giriş\n",
    "\n",
    "\n",
    "<div style=\"color:black;\n",
    "           display:fill;\n",
    "           border-radius:8px;\n",
    "           background-color:#f3f3e3;\n",
    "           font-size:130%;\n",
    "           font-family:Times New Roman;\n",
    "           letter-spacing:0.5px\">\n",
    "\n",
    "<p style=\"padding: 15px;\">\n",
    "    Bu notebookta, Python ile Algoritma gelişimi için 10 soru ve çözümü paylaşılmıştır.\n",
    "    \n",
    "\n",
    "    \n",
    "    \n",
    "</p>\n",
    "</div>\n",
    "\n",
    "<font color = \"darkgreen\">\n",
    "    \n",
    "**İçerik:**\n",
    "1. [Problem 1 - Add Two Numbers](#1)\n",
    "2. [Problem 2 - ](#2)\n",
    "3. [Problem 3 - ](#3)\n",
    "4. [Problem 4 - ](#4)\n",
    "5. [Problem 5 - ](#5)\n",
    "6. [Problem 6 - ](#6)\n",
    "7. [Problem 7 - ](#7)\n",
    "8. [Problem 8 - ](#8)\n",
    "9. [Problem 9 - ](#9)\n",
    "10. [Problem 10 - ](#10)    "
   ]
  },
  {
   "cell_type": "markdown",
   "id": "c461d3d5",
   "metadata": {},
   "source": [
    "<a id = \"1\"></a><br>\n",
    "## Problem 1 - Add Two Numbers"
   ]
  },
  {
   "cell_type": "markdown",
   "id": "2527e264",
   "metadata": {},
   "source": [
    "İki ayrı listede verilen rakamları ters çevirip birleştirip  topladıktan sonra oluşan değeri ters bir şekilde her bir basamak ayrı indekste olacak şekilde listede gösterelim.\n",
    "\n",
    "* __Örnek1:__\n",
    "    * __Input:__ l1 = [2,4,3], l2 = [5,6,4]\n",
    "    * __Output:__ [7,0,8]\n",
    "    * __Explanation:__ 342 + 465 = 807.\n",
    "    \n",
    "* __Örnek2:__\n",
    "    * __Input:__ l1 = [0], l2 = [0]\n",
    "    * __Output:__ [0]\n",
    "    \n",
    "* __Örnek3:__\n",
    "    * __Input:__ l1 = [9,9,9,9,9,9,9], l2 = [9,9,9,9]\n",
    "    * __Output:__ [8,9,9,9,0,0,0,1]  \n",
    "\n",
    "\n",
    "* `Kısıtlar:`\n",
    "    * 0 <= liste değerleri <= 9  arasında olmalıdır.\n",
    "    * Listenin başında sıfır olmayan bir sayı olmalıdır."
   ]
  },
  {
   "cell_type": "code",
   "execution_count": 6,
   "id": "4552430b",
   "metadata": {},
   "outputs": [
    {
     "name": "stdout",
     "output_type": "stream",
     "text": [
      "Listedeki değerlerin ters çevrilip toplanmasında oluşan değer: 10009998\n",
      "Değerin ters çevrilmesi ve listede tutulması: ['8', '9', '9', '9', '0', '0', '0', '1']\n"
     ]
    }
   ],
   "source": [
    "class Solution:\n",
    "    def __init__(self,list1,list2):\n",
    "        self.list1=list1\n",
    "        self.list2=list2\n",
    "    def addTwoNumbers(self):\n",
    "        l1String=\"\"\n",
    "        l2String=\"\"\n",
    "        resultList=[]\n",
    "        \n",
    "        for i in self.list1[::-1]:\n",
    "            l1String+=str(i)\n",
    "        for j in self.list2[::-1]:\n",
    "            l2String+=str(j)\n",
    "        result=int(l1String) +int(l2String)\n",
    "        print(f\"Listedeki değerlerin ters çevrilip toplanmasında oluşan değer: {result}\")\n",
    "        i=0\n",
    "        while i<len(str(result)):\n",
    "            resultList.append(str(result)[::-1][i])\n",
    "            i+=1\n",
    "        print(f\"Değerin ters çevrilmesi ve listede tutulması: {resultList}\")\n",
    "\n",
    "l1,l2 = [9,9,9,9,9,9,9], [9,9,9,9]\n",
    "getClass = Solution(l1, l2)\n",
    "getClass.addTwoNumbers()"
   ]
  },
  {
   "cell_type": "markdown",
   "id": "aee3254c",
   "metadata": {},
   "source": [
    "<a id = \"2\"></a><br>\n",
    "## Problem 2 - "
   ]
  },
  {
   "cell_type": "markdown",
   "id": "a67e8d28",
   "metadata": {},
   "source": [
    "<a id = \"3\"></a><br>\n",
    "## Problem 3 - "
   ]
  },
  {
   "cell_type": "markdown",
   "id": "2adf4fae",
   "metadata": {},
   "source": [
    "<a id = \"4\"></a><br>\n",
    "## Problem 4 - "
   ]
  },
  {
   "cell_type": "markdown",
   "id": "1fbf9247",
   "metadata": {},
   "source": [
    "<a id = \"5\"></a><br>\n",
    "## Problem 5 - "
   ]
  },
  {
   "cell_type": "markdown",
   "id": "a5d248e1",
   "metadata": {},
   "source": [
    "<a id = \"6\"></a><br>\n",
    "## Problem 6 - "
   ]
  },
  {
   "cell_type": "markdown",
   "id": "acd8ed7b",
   "metadata": {},
   "source": [
    "<a id = \"7\"></a><br>\n",
    "## Problem 7 - "
   ]
  },
  {
   "cell_type": "markdown",
   "id": "bd2f0515",
   "metadata": {},
   "source": [
    "<a id = \"8\"></a><br>\n",
    "## Problem 8 - "
   ]
  },
  {
   "cell_type": "markdown",
   "id": "776498eb",
   "metadata": {},
   "source": [
    "<a id = \"9\"></a><br>\n",
    "## Problem 9 - "
   ]
  },
  {
   "cell_type": "markdown",
   "id": "27edbf47",
   "metadata": {},
   "source": [
    "<a id = \"10\"></a><br>\n",
    "## Problem 10 - "
   ]
  },
  {
   "cell_type": "markdown",
   "id": "2cee2cf2",
   "metadata": {},
   "source": [
    "----"
   ]
  }
 ],
 "metadata": {
  "kernelspec": {
   "display_name": "Python 3",
   "language": "python",
   "name": "python3"
  },
  "language_info": {
   "codemirror_mode": {
    "name": "ipython",
    "version": 3
   },
   "file_extension": ".py",
   "mimetype": "text/x-python",
   "name": "python",
   "nbconvert_exporter": "python",
   "pygments_lexer": "ipython3",
   "version": "3.8.8"
  }
 },
 "nbformat": 4,
 "nbformat_minor": 5
}
