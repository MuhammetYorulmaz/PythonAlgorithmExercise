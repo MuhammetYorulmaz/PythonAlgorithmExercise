{
 "cells": [
  {
   "cell_type": "markdown",
   "id": "9f56a5a9",
   "metadata": {},
   "source": [
    "# Giriş\n",
    "\n",
    "\n",
    "<div style=\"color:black;\n",
    "           display:fill;\n",
    "           border-radius:8px;\n",
    "           background-color:#f3f3e3;\n",
    "           font-size:130%;\n",
    "           font-family:Times New Roman;\n",
    "           letter-spacing:0.5px\">\n",
    "\n",
    "<p style=\"padding: 15px;\">\n",
    "    Bu notebookta, Python ile Algoritma gelişimi için 10 soru ve çözümü paylaşılmıştır.\n",
    "    \n",
    "\n",
    "    \n",
    "    \n",
    "</p>\n",
    "</div>\n",
    "\n",
    "<font color = \"darkgreen\">\n",
    "    \n",
    "**İçerik:**\n",
    "1. [Problem 1 - Add Two Numbers](#1)\n",
    "2. [Problem 2 - Palindrome Number](#2)\n",
    "3. [Problem 3 - Reverse Integer](#3)\n",
    "4. [Problem 4 - Median of Two Sorted Arrays](#4)\n",
    "5. [Problem 5 - ](#5)\n",
    "6. [Problem 6 - ](#6)\n",
    "7. [Problem 7 - ](#7)\n",
    "8. [Problem 8 - ](#8)\n",
    "9. [Problem 9 - ](#9)\n",
    "10. [Problem 10 - ](#10)    "
   ]
  },
  {
   "cell_type": "markdown",
   "id": "c461d3d5",
   "metadata": {},
   "source": [
    "<a id = \"1\"></a><br>\n",
    "## Problem 1 - Add Two Numbers"
   ]
  },
  {
   "cell_type": "markdown",
   "id": "e6dbfdba",
   "metadata": {},
   "source": [
    "İki ayrı listede verilen rakamları ters çevirip birleştirip  topladıktan sonra oluşan değeri ters bir şekilde her bir basamak ayrı indekste olacak şekilde listede gösterelim.\n",
    "\n",
    "* __Örnek1:__\n",
    "    * __Input:__ l1 = [2,4,3], l2 = [5,6,4]\n",
    "    * __Output:__ [7,0,8]\n",
    "    * __Explanation:__ 342 + 465 = 807.\n",
    "    \n",
    "* __Örnek2:__\n",
    "    * __Input:__ l1 = [0], l2 = [0]\n",
    "    * __Output:__ [0]\n",
    "    \n",
    "* __Örnek3:__\n",
    "    * __Input:__ l1 = [9,9,9,9,9,9,9], l2 = [9,9,9,9]\n",
    "    * __Output:__ [8,9,9,9,0,0,0,1]  \n",
    "\n",
    "\n",
    "* `Kısıtlar:`\n",
    "    * 0 <= liste değerleri <= 9  arasında olmalıdır.\n",
    "    * Listenin başında sıfır olmayan bir sayı olmalıdır."
   ]
  },
  {
   "cell_type": "code",
   "execution_count": 6,
   "id": "4552430b",
   "metadata": {},
   "outputs": [
    {
     "name": "stdout",
     "output_type": "stream",
     "text": [
      "Listedeki değerlerin ters çevrilip toplanmasında oluşan değer: 10009998\n",
      "Değerin ters çevrilmesi ve listede tutulması: ['8', '9', '9', '9', '0', '0', '0', '1']\n"
     ]
    }
   ],
   "source": [
    "class Solution:\n",
    "    def __init__(self,list1,list2):\n",
    "        self.list1=list1\n",
    "        self.list2=list2\n",
    "    def addTwoNumbers(self):\n",
    "        l1String=\"\"\n",
    "        l2String=\"\"\n",
    "        resultList=[]\n",
    "        \n",
    "        for i in self.list1[::-1]:\n",
    "            l1String+=str(i)\n",
    "        for j in self.list2[::-1]:\n",
    "            l2String+=str(j)\n",
    "        result=int(l1String) +int(l2String)\n",
    "        print(f\"Listedeki değerlerin ters çevrilip toplanmasında oluşan değer: {result}\")\n",
    "        i=0\n",
    "        while i<len(str(result)):\n",
    "            resultList.append(str(result)[::-1][i])\n",
    "            i+=1\n",
    "        print(f\"Değerin ters çevrilmesi ve listede tutulması: {resultList}\")\n",
    "\n",
    "l1,l2 = [9,9,9,9,9,9,9], [9,9,9,9]\n",
    "getClass = Solution(l1, l2)\n",
    "getClass.addTwoNumbers()"
   ]
  },
  {
   "cell_type": "markdown",
   "id": "decd62e2",
   "metadata": {},
   "source": [
    "<a id = \"2\"></a><br>\n",
    "## Problem 2 - Palindrome Number"
   ]
  },
  {
   "cell_type": "markdown",
   "id": "518591b6",
   "metadata": {},
   "source": [
    "Random olarak gönderilen tam sayının `Palindrome` sayı olup olmadığını kontrol edelim. Eğer Palindrome ise `True`, değilse `False` değer döndürsün.\n",
    "\n",
    "* __Örnek1:__\n",
    "    * __Input:__ x = 121\n",
    "    * __Output:__ true\n",
    "    * __Explanation:__ 121, soldan sağa ve sağdan sola 121 olarak okunur.\n",
    "    \n",
    "* __Örnek2:__\n",
    "    * __Input:__ x = -121\n",
    "    * __Output:__ false\n",
    "    * __Explanation:__ Soldan sağa -121 okur. Sağdan sola, 121- olur. Bu nedenle palindrome değildir.\n",
    "    \n",
    "* __Örnek3:__\n",
    "    * __Input:__ x = 10\n",
    "    * __Output:__ false \n",
    "    * __Explanation:__ Sağdan sola 01 okur. Bu nedenle palindrome değildir.\n",
    "\n",
    "\n",
    "* `Kısıtlar:`\n",
    "\n",
    "    * -2<sup>31</sup> <= x <= 2<sup>31</sup> -1 ,girilen tam sayı değeri belirtilen aralıkta olmalıdır."
   ]
  },
  {
   "cell_type": "code",
   "execution_count": 80,
   "id": "79143b46",
   "metadata": {},
   "outputs": [
    {
     "name": "stdout",
     "output_type": "stream",
     "text": [
      "------------------------------\n",
      "Kontrol edilmek istenilen tam sayı: 10\n",
      "10 Palindrome Sayı mıdır? -> False\n",
      "------------------------------\n",
      "Kontrol edilmek istenilen tam sayı: 101\n",
      "101 Palindrome Sayı mıdır? -> True\n",
      "------------------------------\n",
      "Kontrol edilmek istenilen tam sayı: -121\n",
      "-121 Palindrome Sayı mıdır? -> False\n",
      "------------------------------\n",
      "Kontrol edilmek istenilen tam sayı: 123\n",
      "123 Palindrome Sayı mıdır? -> False\n",
      "------------------------------\n",
      "Kontrol edilmek istenilen tam sayı: 48715526\n",
      "48715526 Palindrome Sayı mıdır? -> False\n"
     ]
    }
   ],
   "source": [
    "import random\n",
    "\n",
    "class Solution:\n",
    "    def __init__(self,x):\n",
    "        self.x=x\n",
    "        \n",
    "    def isPalindrome(self) -> bool:\n",
    "        return str(self.x)[::-1] == str(self.x)\n",
    "    \n",
    "xList = [10,101,-121,123,random.randint(pow(-2,31), pow(2,31)-1)]\n",
    "for x in xList:\n",
    "    print(\"-\"*30)\n",
    "    print(f\"Kontrol edilmek istenilen tam sayı: {x}\")\n",
    "    getClass = Solution(x)\n",
    "    Bool = getClass.isPalindrome()\n",
    "    print(f\"{x} Palindrome Sayı mıdır? -> {Bool}\")"
   ]
  },
  {
   "cell_type": "markdown",
   "id": "c8171910",
   "metadata": {},
   "source": [
    "<a id = \"3\"></a><br>\n",
    "## Problem 3 - Reverse Integer"
   ]
  },
  {
   "cell_type": "markdown",
   "id": "80d830fc",
   "metadata": {},
   "source": [
    "32 bit gelen tamsayının rakamlarını ters çevrilmiş olarak döndürelim. Değeri tersine çevirmek, 32 bit tamsayı aralığının [-2147483648, 2147483647] dışına çıkmasına neden oluyorsa, 0 döndürelim.\n",
    "\n",
    "* __Örnek1:__\n",
    "    * __Input:__ x = 123\n",
    "    * __Output:__ 321\n",
    "    \n",
    "* __Örnek2:__\n",
    "    * __Input:__ x = -123\n",
    "    * __Output:__ -321\n",
    "    \n",
    "* __Örnek3:__\n",
    "    * __Input:__ x = 120\n",
    "    * __Output:__ 21 \n",
    "    \n",
    "* `Kısıtlar:`\n",
    "\n",
    "    * -2<sup>31</sup> <= x <= 2<sup>31</sup> -1 ,girilen tam sayı değeri belirtilen aralıkta olmalıdır.    "
   ]
  },
  {
   "cell_type": "code",
   "execution_count": 32,
   "id": "f1472d5e",
   "metadata": {},
   "outputs": [
    {
     "name": "stdout",
     "output_type": "stream",
     "text": [
      "------------------------------\n",
      "Kontrol edilmek istenilen tam sayı: 123\n",
      "123 Sayısının dönüşümünde oluşan değer: -> 321\n",
      "------------------------------\n",
      "Kontrol edilmek istenilen tam sayı: -123\n",
      "-123 Sayısının dönüşümünde oluşan değer: -> -321\n",
      "------------------------------\n",
      "Kontrol edilmek istenilen tam sayı: 120\n",
      "120 Sayısının dönüşümünde oluşan değer: -> 21\n",
      "------------------------------\n",
      "Kontrol edilmek istenilen tam sayı: 7463849412\n",
      "7463849412 Sayısının dönüşümünde oluşan değer: -> 0\n",
      "------------------------------\n",
      "Kontrol edilmek istenilen tam sayı: -517269318\n",
      "-517269318 Sayısının dönüşümünde oluşan değer: -> -813962715\n"
     ]
    }
   ],
   "source": [
    "import random\n",
    "\n",
    "class Solution:\n",
    "    def __init__(self,x):\n",
    "        self.x=x\n",
    "    def reverse(self) -> int:\n",
    "\n",
    "        try:\n",
    "            if (self.x<0) and ((pow(-2,31)) <= int(str(abs(self.x))[::-1]) <= (pow(2,31)-1)):\n",
    "                value=(-1*int(str(abs(x))[::-1]))\n",
    "            elif (self.x>=0) and ((pow(-2,31)) <= int(str(abs(self.x))[::-1]) <= (pow(2,31)-1)):\n",
    "                value=int(str(abs(x))[::-1])\n",
    "            else:\n",
    "                value=0\n",
    "        finally:\n",
    "            return value\n",
    "    \n",
    "xList = [123,-123,120,7463849412,random.randint(pow(-2,31), pow(2,31)-1)]\n",
    "for x in xList:\n",
    "    print(\"-\"*30)\n",
    "    print(f\"Kontrol edilmek istenilen tam sayı: {x}\")\n",
    "    getClass = Solution(x)\n",
    "    intValue = getClass.reverse()\n",
    "    print(f\"{x} Sayısının dönüşümünde oluşan değer: -> {intValue}\")"
   ]
  },
  {
   "cell_type": "markdown",
   "id": "db7355d0",
   "metadata": {},
   "source": [
    "<a id = \"4\"></a><br>\n",
    "## Problem 4 - Median of Two Sorted Arrays"
   ]
  },
  {
   "cell_type": "markdown",
   "id": "326b882c",
   "metadata": {},
   "source": [
    "Gönderilen iki ayrı listeyi birleştirip `Medyan` değerini döndürelim.\n",
    "\n",
    "* __Örnek1:__\n",
    "    * __Input:__ nums1 = [1,3], nums2 = [2]\n",
    "    * __Output:__ 2.00000\n",
    "    * __Explanation:__ birleştirilmiş dizi = [1,2,3] ve medyan 2'dir.\n",
    "    \n",
    "* __Örnek2:__\n",
    "    * __Input:__ nums1 = [1,2], nums2 = [3,4]\n",
    "    * __Output:__ 2.50000\n",
    "    * __Explanation:__ birleştirilmiş dizi = [1,2,3,4] ve medyan (2 + 3) / 2 = 2.5.\n"
   ]
  },
  {
   "cell_type": "code",
   "execution_count": 33,
   "id": "ccbeac97",
   "metadata": {},
   "outputs": [
    {
     "data": {
      "text/plain": [
       "(2.5, 2.5, 2.5)"
      ]
     },
     "execution_count": 33,
     "metadata": {},
     "output_type": "execute_result"
    }
   ],
   "source": [
    "from numpy import median  #2.yöntem için\n",
    "\n",
    "class Solution:\n",
    "    def __init__(self,nums1,nums2):\n",
    "        self.nums1=nums1\n",
    "        self.nums2=nums2\n",
    "        \n",
    "    def findMedianSortedArrays(self) -> float:\n",
    "        dataSort = sorted(self.nums1+self.nums2)\n",
    "        midValue = len(dataSort) // 2     #3//2 = 1 or 4//2 = 2..\n",
    "        return (dataSort[midValue] + dataSort[~midValue]) / 2\n",
    "    #2.yöntem\n",
    "    def findMedianSortedArrays2(self):\n",
    "        return median(self.nums1 + self.nums2)\n",
    "    #3.yöntem\n",
    "    def findMedianSortedArrays3(self):\n",
    "        dataSort = sorted(self.nums1+self.nums2)\n",
    "        lstLen = len(dataSort)\n",
    "        index = (lstLen - 1) // 2\n",
    "        if (lstLen % 2):\n",
    "            return dataSort[index]\n",
    "        else:\n",
    "            return (dataSort[index] + dataSort[index + 1])/2.0\n",
    "        \n",
    "nums1,nums2=[1,3],[2,4]\n",
    "getClass = Solution(nums1,nums2)\n",
    "getClass.findMedianSortedArrays(),getClass.findMedianSortedArrays2(),getClass.findMedianSortedArrays3()"
   ]
  },
  {
   "cell_type": "markdown",
   "id": "1d7c502f",
   "metadata": {},
   "source": [
    "<a id = \"5\"></a><br>\n",
    "## Problem 5 - "
   ]
  },
  {
   "cell_type": "markdown",
   "id": "8997e19c",
   "metadata": {},
   "source": [
    "<a id = \"6\"></a><br>\n",
    "## Problem 6 - "
   ]
  },
  {
   "cell_type": "markdown",
   "id": "ae5e4618",
   "metadata": {},
   "source": [
    "<a id = \"7\"></a><br>\n",
    "## Problem 7 - "
   ]
  },
  {
   "cell_type": "markdown",
   "id": "5fa132e2",
   "metadata": {},
   "source": [
    "<a id = \"8\"></a><br>\n",
    "## Problem 8 - "
   ]
  },
  {
   "cell_type": "markdown",
   "id": "88f74fbe",
   "metadata": {},
   "source": [
    "<a id = \"9\"></a><br>\n",
    "## Problem 9 - "
   ]
  },
  {
   "cell_type": "markdown",
   "id": "2eb03216",
   "metadata": {},
   "source": [
    "<a id = \"10\"></a><br>\n",
    "## Problem 10 - "
   ]
  },
  {
   "cell_type": "markdown",
   "id": "ae7faebd",
   "metadata": {},
   "source": [
    "----"
   ]
  }
 ],
 "metadata": {
  "kernelspec": {
   "display_name": "Python 3",
   "language": "python",
   "name": "python3"
  },
  "language_info": {
   "codemirror_mode": {
    "name": "ipython",
    "version": 3
   },
   "file_extension": ".py",
   "mimetype": "text/x-python",
   "name": "python",
   "nbconvert_exporter": "python",
   "pygments_lexer": "ipython3",
   "version": "3.8.8"
  }
 },
 "nbformat": 4,
 "nbformat_minor": 5
}
